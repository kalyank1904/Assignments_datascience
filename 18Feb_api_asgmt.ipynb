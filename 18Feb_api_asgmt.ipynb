{
 "cells": [
  {
   "cell_type": "code",
   "execution_count": 1,
   "id": "849621c3-0c14-49ab-9f6e-ecd762505295",
   "metadata": {},
   "outputs": [],
   "source": [
    "# API-->stands for application programming interface is a set for protocols and tools that allows different application\n",
    "#       to communicate and intract with each other.     \n",
    "#       examples-->account authentications,\n",
    "#                  account information,\n",
    "#                  payment processing.       "
   ]
  },
  {
   "cell_type": "code",
   "execution_count": 5,
   "id": "459ce3a3-c940-41c0-84c6-a552eda3f91f",
   "metadata": {},
   "outputs": [],
   "source": [
    "# advantages-->efficiency,\n",
    "#              data distrubition\n",
    "#             flexibility of services\n",
    "#              adaptability\n",
    "# disadvantages-->no fixed scale\n",
    " #                 maintaince cost is high\n",
    "#                 loss of control"
   ]
  },
  {
   "cell_type": "code",
   "execution_count": 4,
   "id": "2cc79013-a8e0-4117-8da8-496f6edfd25e",
   "metadata": {},
   "outputs": [],
   "source": [
    "# web API is a sub set of Application Programming Interface(API)\n",
    "\n",
    "# APIs-->one application is able to interact with other in a starardized way.\n",
    "# web APIs are type of APIs which must be accessed through a network connection \n",
    "# protocols means a set of rules-->\n",
    "# web api uses Hypertext transfer protocol ,where as Api can supptor XML,HTTP,TCP(transmission control protocol),SMTP\n",
    "#example REST(web api)"
   ]
  },
  {
   "cell_type": "code",
   "execution_count": 6,
   "id": "e6cb32a6-ec71-43e7-b5fc-6a92b909dae9",
   "metadata": {},
   "outputs": [],
   "source": [
    "# REST and SOAP are two architecture used in web APIs.\n",
    "# REST stands for Representational state transfer.\n",
    "# SOAP stands for Simple object access protocol.\n",
    "# REST which is a set or principles for building web services that uses HTTP as communication protocol\n",
    "#principle/properties are-->client-server architecture,stateless, cacheable,uniform interface,layered system\n",
    "# shortcomings of SOAP-->complex ,can only transfer XML"
   ]
  },
  {
   "cell_type": "code",
   "execution_count": null,
   "id": "5d5b1fd9-15a5-4e4e-83ee-c612984f4e51",
   "metadata": {},
   "outputs": [],
   "source": [
    "# REST-->Representational state transfer        SOAP-->Simple object access protocol\n",
    "# uses HTTP as communication protocal            uses XMl,which follows messaging protocol\n",
    "# simple,flexible,scaleble                       complex\n",
    "# stateless                                      not stateless\n",
    "# not a lightweighted protocol                   lightweighted protocol\n",
    "# less secured compared to SOAP                  more Secured\n",
    "# HTTP(GET,PUT,POST,DELETE)                      XML(WSDL)web services discription language.\n"
   ]
  }
 ],
 "metadata": {
  "kernelspec": {
   "display_name": "Python 3 (ipykernel)",
   "language": "python",
   "name": "python3"
  },
  "language_info": {
   "codemirror_mode": {
    "name": "ipython",
    "version": 3
   },
   "file_extension": ".py",
   "mimetype": "text/x-python",
   "name": "python",
   "nbconvert_exporter": "python",
   "pygments_lexer": "ipython3",
   "version": "3.10.8"
  }
 },
 "nbformat": 4,
 "nbformat_minor": 5
}
